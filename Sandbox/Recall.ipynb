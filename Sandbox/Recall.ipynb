{
 "cells": [
  {
   "cell_type": "code",
   "execution_count": 9,
   "metadata": {},
   "outputs": [],
   "source": [
    "from elasticsearch import helpers as hprs\n",
    "from elasticsearch import Elasticsearch\n",
    "import numpy as np\n",
    "import pandas as pd\n",
    "import json\n",
    "import sys"
   ]
  },
  {
   "cell_type": "markdown",
   "metadata": {},
   "source": [
    "# open elasticsearch"
   ]
  },
  {
   "cell_type": "code",
   "execution_count": 10,
   "metadata": {},
   "outputs": [],
   "source": [
    "es = Elasticsearch(HOST = 'http://localhost', PORT = 9200)"
   ]
  },
  {
   "cell_type": "code",
   "execution_count": 2,
   "metadata": {},
   "outputs": [
    {
     "ename": "NameError",
     "evalue": "name 'es' is not defined",
     "output_type": "error",
     "traceback": [
      "\u001b[0;31m---------------------------------------------------------------------------\u001b[0m",
      "\u001b[0;31mNameError\u001b[0m                                 Traceback (most recent call last)",
      "\u001b[0;32m<ipython-input-2-f0b57c0ad6c5>\u001b[0m in \u001b[0;36m<module>\u001b[0;34m\u001b[0m\n\u001b[0;32m----> 1\u001b[0;31m \u001b[0mes\u001b[0m\u001b[0;34m.\u001b[0m\u001b[0mindices\u001b[0m\u001b[0;34m.\u001b[0m\u001b[0mdelete\u001b[0m\u001b[0;34m(\u001b[0m\u001b[0mindex\u001b[0m \u001b[0;34m=\u001b[0m \u001b[0;34m\"tencent_news\"\u001b[0m\u001b[0;34m)\u001b[0m\u001b[0;34m\u001b[0m\u001b[0m\n\u001b[0m",
      "\u001b[0;31mNameError\u001b[0m: name 'es' is not defined"
     ]
    }
   ],
   "source": [
    "es.indices.delete(index = \"tencent_news\")"
   ]
  },
  {
   "cell_type": "code",
   "execution_count": 11,
   "metadata": {},
   "outputs": [
    {
     "data": {
      "text/plain": [
       "True"
      ]
     },
     "execution_count": 11,
     "metadata": {},
     "output_type": "execute_result"
    }
   ],
   "source": [
    "es.indices.exists(index = \"tencent_news\")"
   ]
  },
  {
   "cell_type": "markdown",
   "metadata": {},
   "source": [
    "# Import JSON data into ES"
   ]
  },
  {
   "cell_type": "code",
   "execution_count": 3,
   "metadata": {},
   "outputs": [
    {
     "name": "stderr",
     "output_type": "stream",
     "text": [
      "/Library/Frameworks/Python.framework/Versions/3.7/lib/python3.7/site-packages/requests/__init__.py:91: RequestsDependencyWarning: urllib3 (1.25.10) or chardet (3.0.4) doesn't match a supported version!\n",
      "  RequestsDependencyWarning)\n"
     ]
    }
   ],
   "source": [
    "import csv\n",
    "from elasticsearch import helpers, Elasticsearch\n",
    "\n",
    "def csv_reader(file_name):\n",
    "    es = Elasticsearch(HOST = 'http://localhost', PORT = 9200)\n",
    "    with open(file_name, 'r') as outfile:\n",
    "        reader = csv.DictReader(outfile)\n",
    "        helpers.bulk(es, actions = reader, index=\"tencent_news\", doc_type=\"news\")"
   ]
  },
  {
   "cell_type": "code",
   "execution_count": 4,
   "metadata": {},
   "outputs": [
    {
     "name": "stderr",
     "output_type": "stream",
     "text": [
      "/Library/Frameworks/Python.framework/Versions/3.7/lib/python3.7/site-packages/elasticsearch/connection/base.py:177: ElasticsearchDeprecationWarning: [types removal] Specifying types in bulk requests is deprecated.\n",
      "  warnings.warn(message, category=ElasticsearchDeprecationWarning)\n"
     ]
    }
   ],
   "source": [
    "csv_reader('queries_doc.csv')"
   ]
  },
  {
   "cell_type": "code",
   "execution_count": 12,
   "metadata": {},
   "outputs": [
    {
     "data": {
      "text/plain": [
       "True"
      ]
     },
     "execution_count": 12,
     "metadata": {},
     "output_type": "execute_result"
    }
   ],
   "source": [
    "es.indices.exists(index = 'tencent_news')"
   ]
  },
  {
   "cell_type": "markdown",
   "metadata": {},
   "source": [
    "# Searching data"
   ]
  },
  {
   "cell_type": "code",
   "execution_count": 29,
   "metadata": {},
   "outputs": [
    {
     "data": {
      "text/plain": [
       "{'took': 0,\n",
       " 'timed_out': False,\n",
       " '_shards': {'total': 1, 'successful': 1, 'skipped': 0, 'failed': 0},\n",
       " 'hits': {'total': {'value': 332634, 'relation': 'eq'},\n",
       "  'max_score': 1.0,\n",
       "  'hits': [{'_index': 'tencent_news',\n",
       "    '_type': 'news',\n",
       "    '_id': 'bd0I03MBNUn1mgv1_78d',\n",
       "    '_score': 1.0,\n",
       "    '_source': {'label': '5',\n",
       "     'label_binary': '1.0',\n",
       "     'qid_clean': '明日天气预报',\n",
       "     'title_clean': '唐山地区明日天气预报限号通知',\n",
       "     'group_id': '9774'}},\n",
       "   {'_index': 'tencent_news',\n",
       "    '_type': 'news',\n",
       "    '_id': 'bt0I03MBNUn1mgv1_78d',\n",
       "    '_score': 1.0,\n",
       "    '_source': {'label': '5',\n",
       "     'label_binary': '1.0',\n",
       "     'qid_clean': '明日天气预报',\n",
       "     'title_clean': '重要天气预报明日南京大雪局部暴雪',\n",
       "     'group_id': '9774'}},\n",
       "   {'_index': 'tencent_news',\n",
       "    '_type': 'news',\n",
       "    '_id': 'b90I03MBNUn1mgv1_78d',\n",
       "    '_score': 1.0,\n",
       "    '_source': {'label': '5',\n",
       "     'label_binary': '1.0',\n",
       "     'qid_clean': '明日天气预报',\n",
       "     'title_clean': '听两会好声音看明日天气预报',\n",
       "     'group_id': '9774'}},\n",
       "   {'_index': 'tencent_news',\n",
       "    '_type': 'news',\n",
       "    '_id': 'cN0I03MBNUn1mgv1_78d',\n",
       "    '_score': 1.0,\n",
       "    '_source': {'label': '5',\n",
       "     'label_binary': '1.0',\n",
       "     'qid_clean': '明日天气预报',\n",
       "     'title_clean': '3月6日云浮气象台发布云浮今晚到明天的天气预报',\n",
       "     'group_id': '9774'}},\n",
       "   {'_index': 'tencent_news',\n",
       "    '_type': 'news',\n",
       "    '_id': 'cd0I03MBNUn1mgv1_78d',\n",
       "    '_score': 1.0,\n",
       "    '_source': {'label': '5',\n",
       "     'label_binary': '1.0',\n",
       "     'qid_clean': '明日天气预报',\n",
       "     'title_clean': '报天气预报说朝阳明天有雪你们信吗',\n",
       "     'group_id': '9774'}}]}}"
      ]
     },
     "execution_count": 29,
     "metadata": {},
     "output_type": "execute_result"
    }
   ],
   "source": [
    "es.search(index = \"tencent_news\", body = {\"from\": 0, \"size\": 5, \"query\": {\"match_all\": {}}, \"track_total_hits\": True})"
   ]
  },
  {
   "cell_type": "code",
   "execution_count": 23,
   "metadata": {},
   "outputs": [],
   "source": [
    "res = es.search(index = \"tencent_news\", body = {\"from\": 0, \"size\": 3, \"query\": {\"bool\": {\n",
    "                                                                            \"should\": {\n",
    "                                                                                \"match\":{\n",
    "                                                                                    \"qid_clean\": \"G5\"\n",
    "                                                                                }\n",
    "                                                                          }\n",
    "}}})"
   ]
  },
  {
   "cell_type": "code",
   "execution_count": 24,
   "metadata": {},
   "outputs": [
    {
     "data": {
      "text/plain": [
       "{'took': 1,\n",
       " 'timed_out': False,\n",
       " '_shards': {'total': 1, 'successful': 1, 'skipped': 0, 'failed': 0},\n",
       " 'hits': {'total': {'value': 19, 'relation': 'eq'},\n",
       "  'max_score': 12.05379,\n",
       "  'hits': [{'_index': 'tencent_news',\n",
       "    '_type': 'news',\n",
       "    '_id': 'ktsI03MBNUn1mgv1sDsg',\n",
       "    '_score': 12.05379,\n",
       "    '_source': {'label': '5',\n",
       "     'label_binary': '1.0',\n",
       "     'qid_clean': 'G5高速',\n",
       "     'title_clean': 'G5京昆高速瓦厂坪大桥路段山体险情建议大家推迟出行',\n",
       "     'group_id': '893'}},\n",
       "   {'_index': 'tencent_news',\n",
       "    '_type': 'news',\n",
       "    '_id': 'k9sI03MBNUn1mgv1sDsg',\n",
       "    '_score': 12.05379,\n",
       "    '_source': {'label': '5',\n",
       "     'label_binary': '1.0',\n",
       "     'qid_clean': 'G5高速',\n",
       "     'title_clean': 'G5京昆高速雅西段拖乌山突降暴雪部分路段积雪深达1米',\n",
       "     'group_id': '893'}},\n",
       "   {'_index': 'tencent_news',\n",
       "    '_type': 'news',\n",
       "    '_id': 'lNsI03MBNUn1mgv1sDsg',\n",
       "    '_score': 12.05379,\n",
       "    '_source': {'label': '5',\n",
       "     'label_binary': '1.0',\n",
       "     'qid_clean': 'G5高速',\n",
       "     'title_clean': '12月起G5京昆高速开始冬管这些地方需特别注意',\n",
       "     'group_id': '893'}}]}}"
      ]
     },
     "execution_count": 24,
     "metadata": {},
     "output_type": "execute_result"
    }
   ],
   "source": [
    "res"
   ]
  },
  {
   "cell_type": "code",
   "execution_count": 30,
   "metadata": {},
   "outputs": [],
   "source": [
    "# Count data\n"
   ]
  },
  {
   "cell_type": "markdown",
   "metadata": {},
   "source": [
    "# Checking data type"
   ]
  },
  {
   "cell_type": "code",
   "execution_count": 31,
   "metadata": {},
   "outputs": [
    {
     "data": {
      "text/plain": [
       "{'tencent_news': {'mappings': {'news': {'properties': {'group_id': {'type': 'text',\n",
       "      'fields': {'keyword': {'type': 'keyword', 'ignore_above': 256}}},\n",
       "     'label': {'type': 'text',\n",
       "      'fields': {'keyword': {'type': 'keyword', 'ignore_above': 256}}},\n",
       "     'label_binary': {'type': 'text',\n",
       "      'fields': {'keyword': {'type': 'keyword', 'ignore_above': 256}}},\n",
       "     'qid_clean': {'type': 'text',\n",
       "      'fields': {'keyword': {'type': 'keyword', 'ignore_above': 256}}},\n",
       "     'title_clean': {'type': 'text',\n",
       "      'fields': {'keyword': {'type': 'keyword', 'ignore_above': 256}}}}}}}}"
      ]
     },
     "execution_count": 31,
     "metadata": {},
     "output_type": "execute_result"
    }
   ],
   "source": [
    "es.indices.get_mapping(index = 'tencent_news', doc_type = 'news', include_type_name=True)"
   ]
  },
  {
   "cell_type": "code",
   "execution_count": null,
   "metadata": {},
   "outputs": [],
   "source": []
  },
  {
   "cell_type": "code",
   "execution_count": null,
   "metadata": {},
   "outputs": [],
   "source": []
  }
 ],
 "metadata": {
  "kernelspec": {
   "display_name": "Python 3",
   "language": "python",
   "name": "python3"
  },
  "language_info": {
   "codemirror_mode": {
    "name": "ipython",
    "version": 3
   },
   "file_extension": ".py",
   "mimetype": "text/x-python",
   "name": "python",
   "nbconvert_exporter": "python",
   "pygments_lexer": "ipython3",
   "version": "3.7.0"
  }
 },
 "nbformat": 4,
 "nbformat_minor": 4
}
